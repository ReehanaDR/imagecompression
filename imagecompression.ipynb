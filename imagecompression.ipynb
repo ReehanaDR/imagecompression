{
  "nbformat": 4,
  "nbformat_minor": 0,
  "metadata": {
    "colab": {
      "name": "imagecompression.ipynb",
      "provenance": [],
      "collapsed_sections": [],
      "authorship_tag": "ABX9TyNNNso7wW0K+Fd4cJhdqNjB",
      "include_colab_link": true
    },
    "kernelspec": {
      "name": "python3",
      "display_name": "Python 3"
    },
    "language_info": {
      "name": "python"
    }
  },
  "cells": [
    {
      "cell_type": "markdown",
      "metadata": {
        "id": "view-in-github",
        "colab_type": "text"
      },
      "source": [
        "<a href=\"https://colab.research.google.com/github/ReehanaDR/imagecompression/blob/main/imagecompression.ipynb\" target=\"_parent\"><img src=\"https://colab.research.google.com/assets/colab-badge.svg\" alt=\"Open In Colab\"/></a>"
      ]
    },
    {
      "cell_type": "markdown",
      "source": [
        "#Flow of autoencoder\n",
        "Input image->Encoder->Compressed Representation->Decoder->Reconstruct Input Image"
      ],
      "metadata": {
        "id": "sKPLv5UfCEH8"
      }
    },
    {
      "cell_type": "markdown",
      "source": [
        "Import Modules"
      ],
      "metadata": {
        "id": "93crBP1UC7W8"
      }
    },
    {
      "cell_type": "code",
      "execution_count": 1,
      "metadata": {
        "id": "rHROaoUf0AF6"
      },
      "outputs": [],
      "source": [
        "import pandas as pd\n",
        "import numpy as np\n",
        "import matplotlib.pyplot as plt\n",
        "from keras import Sequential\n",
        "from keras.layers import Dense, Conv2D, MaxPooling2D, UpSampling2D\n",
        "from keras.datasets import mnist"
      ]
    },
    {
      "cell_type": "markdown",
      "source": [
        "Load the Dataset"
      ],
      "metadata": {
        "id": "r9eJdDJODA3e"
      }
    },
    {
      "cell_type": "code",
      "source": [
        "(x_train, _), (x_test, _)= mnist.load_data()"
      ],
      "metadata": {
        "colab": {
          "base_uri": "https://localhost:8080/",
          "height": 0
        },
        "id": "QjbVQDzl0B6I",
        "outputId": "8146cfa8-f459-4e30-a2f2-21cd7d9a48a9"
      },
      "execution_count": 2,
      "outputs": [
        {
          "output_type": "stream",
          "name": "stdout",
          "text": [
            "Downloading data from https://storage.googleapis.com/tensorflow/tf-keras-datasets/mnist.npz\n",
            "11493376/11490434 [==============================] - 0s 0us/step\n",
            "11501568/11490434 [==============================] - 0s 0us/step\n"
          ]
        }
      ]
    },
    {
      "cell_type": "code",
      "source": [
        "#normalize the image data\n",
        "x_train= x_train.astype(\"float32\")/255\n",
        "x_test= x_test.astype(\"float32\")/255\n"
      ],
      "metadata": {
        "id": "W3hRco_b0tVN"
      },
      "execution_count": 3,
      "outputs": []
    },
    {
      "cell_type": "code",
      "source": [
        "#reshape the input data for the model\n",
        "x_train= x_train.reshape(len(x_train), 28, 28, 1)\n",
        "x_test= x_test.reshape(len(x_test), 28, 28, 1)\n",
        "x_test.shape"
      ],
      "metadata": {
        "colab": {
          "base_uri": "https://localhost:8080/",
          "height": 0
        },
        "id": "DCWIO7mM08RU",
        "outputId": "4e027661-cf9f-456d-c62d-45b45d26adce"
      },
      "execution_count": 4,
      "outputs": [
        {
          "output_type": "execute_result",
          "data": {
            "text/plain": [
              "(10000, 28, 28, 1)"
            ]
          },
          "metadata": {},
          "execution_count": 4
        }
      ]
    },
    {
      "cell_type": "markdown",
      "source": [
        "Exploratory Data Analysis"
      ],
      "metadata": {
        "id": "M_qLNwzWEbEj"
      }
    },
    {
      "cell_type": "code",
      "source": [
        "#randomly select the input image\n",
        "index= np.random.randint(len(x_test))\n",
        "#plot the image\n",
        "plt.imshow(x_test[index].reshape(28,28))\n",
        "plt.gray()"
      ],
      "metadata": {
        "colab": {
          "base_uri": "https://localhost:8080/",
          "height": 265
        },
        "id": "nsBIQH5f3o7p",
        "outputId": "7068826d-f65e-4f54-e40f-4818d6e68ac7"
      },
      "execution_count": 5,
      "outputs": [
        {
          "output_type": "display_data",
          "data": {
            "text/plain": [
              "<Figure size 432x288 with 1 Axes>"
            ],
            "image/png": "[encoded data removed]"
          },
          "metadata": {
            "needs_background": "light"
          }
        }
      ]
    },
    {
      "cell_type": "code",
      "source": [
        "index= np.random.randint(len(x_test))\n",
        "plt.imshow(x_test[index].reshape(28,28))\n",
        "plt.gray()"
      ],
      "metadata": {
        "colab": {
          "base_uri": "https://localhost:8080/",
          "height": 265
        },
        "id": "w6_-HKce4xKY",
        "outputId": "cb58606e-0988-4ae1-b4b9-3fe2cf746b7f"
      },
      "execution_count": 6,
      "outputs": [
        {
          "output_type": "display_data",
          "data": {
            "text/plain": [
              "<Figure size 432x288 with 1 Axes>"
            ],
            "image/png": "[encoded data removed]"
          },
          "metadata": {
            "needs_background": "light"
          }
        }
      ]
    },
    {
      "cell_type": "markdown",
      "source": [
        "Model Creation"
      ],
      "metadata": {
        "id": "05O7o9CAEg_6"
      }
    },
    {
      "cell_type": "code",
      "source": [
        "model=Sequential([\n",
        "                  #encoder network\n",
        "                  Conv2D(32,3,activation=\"relu\", padding=\"same\", input_shape=(28,28,1)),\n",
        "                  MaxPooling2D(2, padding=\"same\"),\n",
        "                  Conv2D(16,3,activation=\"relu\", padding=\"same\"),\n",
        "                  MaxPooling2D(2, padding=\"same\"),\n",
        "                  \n",
        "                  #decoder network\n",
        "                  Conv2D(32,3,activation=\"relu\", padding=\"same\", input_shape=(28,28,1)),\n",
        "                  UpSampling2D(2), \n",
        "                  Conv2D(32,3,activation=\"relu\", padding=\"same\", input_shape=(28,28,1)),\n",
        "                  UpSampling2D(2), \n",
        "                  \n",
        "                  #output layer\n",
        "                  Conv2D(1,3,activation=\"sigmoid\", padding=\"same\")\n",
        "])\n",
        "\n",
        "model.compile(optimizer=\"adam\", loss=\"binary_crossentropy\")\n",
        "model.summary()\n",
        "                  \n",
        "                  \n",
        "\n"
      ],
      "metadata": {
        "colab": {
          "base_uri": "https://localhost:8080/",
          "height": 0
        },
        "id": "s3HOOJTZ1Rd0",
        "outputId": "ccfcc28f-e139-4911-9494-530b122485e5"
      },
      "execution_count": 7,
      "outputs": [
        {
          "output_type": "stream",
          "name": "stdout",
          "text": [
            "Model: \"sequential\"\n",
            "_________________________________________________________________\n",
            " Layer (type)                Output Shape              Param #   \n",
            "=================================================================\n",
            " conv2d (Conv2D)             (None, 28, 28, 32)        320       \n",
            "                                                                 \n",
            " max_pooling2d (MaxPooling2D  (None, 14, 14, 32)       0         \n",
            " )                                                               \n",
            "                                                                 \n",
            " conv2d_1 (Conv2D)           (None, 14, 14, 16)        4624      \n",
            "                                                                 \n",
            " max_pooling2d_1 (MaxPooling  (None, 7, 7, 16)         0         \n",
            " 2D)                                                             \n",
            "                                                                 \n",
            " conv2d_2 (Conv2D)           (None, 7, 7, 32)          4640      \n",
            "                                                                 \n",
            " up_sampling2d (UpSampling2D  (None, 14, 14, 32)       0         \n",
            " )                                                               \n",
            "                                                                 \n",
            " conv2d_3 (Conv2D)           (None, 14, 14, 32)        9248      \n",
            "                                                                 \n",
            " up_sampling2d_1 (UpSampling  (None, 28, 28, 32)       0         \n",
            " 2D)                                                             \n",
            "                                                                 \n",
            " conv2d_4 (Conv2D)           (None, 28, 28, 1)         289       \n",
            "                                                                 \n",
            "=================================================================\n",
            "Total params: 19,121\n",
            "Trainable params: 19,121\n",
            "Non-trainable params: 0\n",
            "_________________________________________________________________\n"
          ]
        }
      ]
    },
    {
      "cell_type": "code",
      "source": [
        "#train the model\n",
        "model.fit(x_train, x_train, epochs=20, batch_size= 256, validation_data= (x_test, x_test))"
      ],
      "metadata": {
        "colab": {
          "base_uri": "https://localhost:8080/",
          "height": 0
        },
        "id": "NcA_Gmi73Hos",
        "outputId": "39106fa6-e4ed-4474-d580-a5e84748f9bc"
      },
      "execution_count": 8,
      "outputs": [
        {
          "output_type": "stream",
          "name": "stdout",
          "text": [
            "Epoch 1/20\n",
            "235/235 [==============================] - 135s 571ms/step - loss: 0.1642 - val_loss: 0.0857\n",
            "Epoch 2/20\n",
            "235/235 [==============================] - 139s 591ms/step - loss: 0.0822 - val_loss: 0.0782\n",
            "Epoch 3/20\n",
            "235/235 [==============================] - 147s 625ms/step - loss: 0.0772 - val_loss: 0.0752\n",
            "Epoch 4/20\n",
            "235/235 [==============================] - 143s 605ms/step - loss: 0.0744 - val_loss: 0.0728\n",
            "Epoch 5/20\n",
            "235/235 [==============================] - 164s 697ms/step - loss: 0.0729 - val_loss: 0.0716\n",
            "Epoch 6/20\n",
            "235/235 [==============================] - 139s 593ms/step - loss: 0.0719 - val_loss: 0.0708\n",
            "Epoch 7/20\n",
            "235/235 [==============================] - 133s 565ms/step - loss: 0.0711 - val_loss: 0.0702\n",
            "Epoch 8/20\n",
            "235/235 [==============================] - 133s 566ms/step - loss: 0.0705 - val_loss: 0.0696\n",
            "Epoch 9/20\n",
            "235/235 [==============================] - 134s 570ms/step - loss: 0.0700 - val_loss: 0.0692\n",
            "Epoch 10/20\n",
            "235/235 [==============================] - 133s 566ms/step - loss: 0.0696 - val_loss: 0.0688\n",
            "Epoch 11/20\n",
            "235/235 [==============================] - 133s 565ms/step - loss: 0.0692 - val_loss: 0.0684\n",
            "Epoch 12/20\n",
            "235/235 [==============================] - 133s 566ms/step - loss: 0.0689 - val_loss: 0.0681\n",
            "Epoch 13/20\n",
            "235/235 [==============================] - 133s 566ms/step - loss: 0.0686 - val_loss: 0.0681\n",
            "Epoch 14/20\n",
            "235/235 [==============================] - 133s 566ms/step - loss: 0.0684 - val_loss: 0.0677\n",
            "Epoch 15/20\n",
            "235/235 [==============================] - 133s 564ms/step - loss: 0.0681 - val_loss: 0.0675\n",
            "Epoch 16/20\n",
            "235/235 [==============================] - 133s 564ms/step - loss: 0.0679 - val_loss: 0.0673\n",
            "Epoch 17/20\n",
            "235/235 [==============================] - 133s 566ms/step - loss: 0.0678 - val_loss: 0.0673\n",
            "Epoch 18/20\n",
            "235/235 [==============================] - 134s 571ms/step - loss: 0.0676 - val_loss: 0.0669\n",
            "Epoch 19/20\n",
            "235/235 [==============================] - 134s 571ms/step - loss: 0.0674 - val_loss: 0.0670\n",
            "Epoch 20/20\n",
            "235/235 [==============================] - 133s 566ms/step - loss: 0.0673 - val_loss: 0.0668\n"
          ]
        },
        {
          "output_type": "execute_result",
          "data": {
            "text/plain": [
              "<keras.callbacks.History at 0x7f1f916cf690>"
            ]
          },
          "metadata": {},
          "execution_count": 8
        }
      ]
    },
    {
      "cell_type": "code",
      "source": [
        "#predict the results from model (get compressed images)\n",
        "pred= model.predict(x_test)"
      ],
      "metadata": {
        "id": "VGjmOIyFf_AD"
      },
      "execution_count": 9,
      "outputs": []
    },
    {
      "cell_type": "code",
      "source": [
        "#visualize compressed image\n",
        "#plot the image\n",
        "plt.imshow(pred[index].reshape(28,28))\n",
        "plt.gray()"
      ],
      "metadata": {
        "colab": {
          "base_uri": "https://localhost:8080/",
          "height": 265
        },
        "id": "6ykalfaY5SQr",
        "outputId": "d55f5691-874d-4d1c-f468-28085057c1aa"
      },
      "execution_count": 10,
      "outputs": [
        {
          "output_type": "display_data",
          "data": {
            "text/plain": [
              "<Figure size 432x288 with 1 Axes>"
            ],
            "image/png": "[encoded data removed]"
          },
          "metadata": {
            "needs_background": "light"
          }
        }
      ]
    },
    {
      "cell_type": "code",
      "source": [
        "index = np.random.randint(len(x_test))\n",
        "plt.figure(figsize= (10,4))\n",
        "#display original image\n",
        "ax= plt.subplot(1,2,1)\n",
        "plt.imshow(x_test[index].reshape(28,28))\n",
        "plt.gray()\n",
        "ax.get_xaxis().set_visible(False)\n",
        "ax.get_yaxis().set_visible(False)\n",
        "#diaplay compressed image\n",
        "ax= plt.subplot(1,2,2)\n",
        "plt.imshow(pred[index].reshape(28,28))\n",
        "plt.gray()\n",
        "ax.get_xaxis().set_visible(False)\n",
        "ax.get_yaxis().set_visible(False)\n",
        "\n",
        "plt.show()"
      ],
      "metadata": {
        "colab": {
          "base_uri": "https://localhost:8080/",
          "height": 252
        },
        "id": "EQ3aXb2OgZ5I",
        "outputId": "e2335185-4431-421b-9b28-8d25e661e9ad"
      },
      "execution_count": 11,
      "outputs": [
        {
          "output_type": "display_data",
          "data": {
            "text/plain": [
              "<Figure size 720x288 with 2 Axes>"
            ],
            "image/png": "[encoded data removed]"
          },
          "metadata": {
            "needs_background": "light"
          }
        }
      ]
    },
    {
      "cell_type": "code",
      "source": [
        ""
      ],
      "metadata": {
        "id": "tbEvBzZGhZso"
      },
      "execution_count": null,
      "outputs": []
    }
  ]
}